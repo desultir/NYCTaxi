{
 "cells": [
  {
   "cell_type": "code",
   "execution_count": 1,
   "metadata": {},
   "outputs": [
    {
     "name": "stderr",
     "output_type": "stream",
     "text": [
      "/home/tdm/git/nyctaxi/venv/lib/python3.5/site-packages/statsmodels/compat/pandas.py:56: FutureWarning: The pandas.core.datetools module is deprecated and will be removed in a future version. Please use the pandas.tseries module instead.\n",
      "  from pandas.core import datetools\n"
     ]
    }
   ],
   "source": [
    "%matplotlib inline\n",
    "import pandas as pd\n",
    "import numpy as np\n",
    "import os, sys\n",
    "import datetime\n",
    "\n",
    "from statsmodels.tsa.statespace.sarimax import SARIMAX\n",
    "from statsmodels.graphics.tsaplots import plot_acf, plot_pacf\n",
    "from statsmodels.tsa.stattools import acf, pacf\n",
    "\n",
    "processeddir = \"../data/processed/\"\n",
    "df = pd.read_csv(os.path.join(processeddir,\"nyctaxiclean.csv\"), dtype={\"store_and_fwd_flag\": \"object\"})\n",
    "\n",
    "#coerce datetimes\n",
    "df[\"pickup_datetime\"] = pd.to_datetime(df[\"pickup_datetime\"])\n",
    "df[\"dropoff_datetime\"] = pd.to_datetime(df[\"dropoff_datetime\"])\n",
    "df[\"pickup_datetime\"] = pd.to_datetime(df[\"pickup_datetime\"])\n",
    "df[\"dropoff_datetime\"] = pd.to_datetime(df[\"dropoff_datetime\"])"
   ]
  },
  {
   "cell_type": "code",
   "execution_count": 2,
   "metadata": {},
   "outputs": [],
   "source": [
    "grouped_df = df.groupby(\"pickup_neighbourhood\")\n"
   ]
  },
  {
   "cell_type": "code",
   "execution_count": 16,
   "metadata": {},
   "outputs": [],
   "source": [
    "# for choice of order, see \" examine ACF\" workbook\n",
    "# here we model SARIMAX using timeseries cval on 4 POC neighbourhoods - 2 busy and 2 medium\n",
    "\n",
    "chosen_neighbourhoods = [\"Upper East Side South\", \"Midtown Center\", \"Flatiron\", \"JFK Airport\"]\n",
    "\n",
    "df['qtr_hour'] = df['pickup_datetime'].apply(lambda x: datetime.datetime(x.year, x.month, x.day, x.hour,15*(x.minute // 15)))\n",
    "arima_df = df.loc[df[\"pickup_neighbourhood\"].isin(chosen_neighbourhoods)]\n"
   ]
  },
  {
   "cell_type": "code",
   "execution_count": 23,
   "metadata": {},
   "outputs": [],
   "source": [
    "# model activity as number of pickups\n",
    "arima_df = arima_df[[\"pickup_neighbourhood\", \"qtr_hour\", \"medallion\"]].groupby([\"pickup_neighbourhood\",\"qtr_hour\"]).count()\n",
    "arima_df = arima_df.reset_index()"
   ]
  },
  {
   "cell_type": "code",
   "execution_count": 47,
   "metadata": {},
   "outputs": [
    {
     "data": {
      "text/plain": [
       "[[(251, 208.05598598979796),\n",
       "  (197, 196.0799507079503),\n",
       "  (162, 187.95229493678258),\n",
       "  (172, 174.8179216097823)],\n",
       " [(164, 171.97899451141112),\n",
       "  (115, 155.6736107198999),\n",
       "  (92, 140.3498012279402),\n",
       "  (93, 122.73159417994913)],\n",
       " [(405, 400.2192622746108),\n",
       "  (371, 387.5929719256551),\n",
       "  (341, 342.7738332828483),\n",
       "  (320, 318.469006435142)],\n",
       " [(182, 176.32989304329118),\n",
       "  (180, 172.88396343682177),\n",
       "  (159, 168.076936136975),\n",
       "  (176, 161.17612771330056)],\n",
       " [(52, 49.85177262125542),\n",
       "  (39, 31.671625028304696),\n",
       "  (35, 22.874345810804478),\n",
       "  (29, 11.032386962139338)],\n",
       " [(460, 471.4662398184972),\n",
       "  (463, 442.8096490238564),\n",
       "  (400, 450.23118194287815),\n",
       "  (433, 436.34229037230307)],\n",
       " [(161, 181.38209967194788),\n",
       "  (162, 161.30367318433025),\n",
       "  (155, 140.49196467744645),\n",
       "  (109, 128.09188185460096)],\n",
       " [(248, 263.0832721753953),\n",
       "  (247, 270.4466444962168),\n",
       "  (255, 281.13683228283566),\n",
       "  (283, 292.2571834733625)],\n",
       " [(144, 133.0104609678498),\n",
       "  (136, 127.15050781821216),\n",
       "  (127, 125.97992848300154),\n",
       "  (130, 118.68459432863419)],\n",
       " [(102, 115.14405905926867),\n",
       "  (124, 116.37755344549473),\n",
       "  (109, 124.78343573828857),\n",
       "  (125, 136.6722732367809)],\n",
       " [(163, 163.00773177598),\n",
       "  (145, 147.60816250698204),\n",
       "  (91, 139.8940187726455),\n",
       "  (98, 137.5515346705415)],\n",
       " [(47, 53.544857880571946),\n",
       "  (33, 52.29169459511733),\n",
       "  (46, 52.32988819103411),\n",
       "  (39, 58.01689994725162)],\n",
       " [(191, 101.91509627269971),\n",
       "  (147, 92.99970856397985),\n",
       "  (164, 98.86885487369847),\n",
       "  (124, 88.99840056608448)],\n",
       " [(133, 136.7506885363496),\n",
       "  (138, 138.17701610725183),\n",
       "  (101, 141.21120656744748),\n",
       "  (113, 144.14044435693273)],\n",
       " [(101, 118.90879007503781),\n",
       "  (53, 112.87790979307954),\n",
       "  (96, 111.18753756084058),\n",
       "  (83, 102.20971524424935)],\n",
       " [(3, 1.560545352194727),\n",
       "  (18, 0.993720255470691),\n",
       "  (55, 0.9640364630996422),\n",
       "  (63, 2.7576178672345235)]]"
      ]
     },
     "execution_count": 47,
     "metadata": {},
     "output_type": "execute_result"
    }
   ],
   "source": [
    "#%pdb on\n",
    "# PACF indicates a model AR(1-4) with seasonality of day. Potential for MA component given damped sin effect\n",
    "# ACF indicates additional seasonality component of week\n",
    "# for choice of order, see \" examine ACF\" workbook\n",
    "\n",
    "from statsmodels.tsa.statespace.sarimax  import SARIMAX\n",
    "\n",
    "#time series cross validation - forecasting 1 hour at a time\n",
    "#pick 4 random hours in the last week\n",
    "k = 4\n",
    "week_length = 7 * 24 #hours in a week\n",
    "week_length_qtrs = week_length * 4 #qtr hr bins\n",
    "\n",
    "np.random.seed(100)\n",
    "\n",
    "\n",
    "best_order = (1,0,1)\n",
    "best_seasonal = (1,0,1,96)\n",
    "\n",
    "models = []\n",
    "results = []\n",
    "output = []\n",
    "for neighbourhood in chosen_neighbourhoods:\n",
    "    hours = sorted([int(np.random.random() * week_length) for x in range(4)])\n",
    "    neigh_df = arima_df[arima_df[\"pickup_neighbourhood\"]==neighbourhood]\n",
    "    for hour in hours:\n",
    "        test_end_idx = week_length_qtrs * 3 + hour * 4\n",
    "        train_df = neigh_df[\"medallion\"].values[:test_end_idx]\n",
    "        test_df = neigh_df[\"medallion\"].values[test_end_idx:test_end_idx+4]\n",
    "        \n",
    "        models.append(SARIMAX(train_df, order=best_order, seasonal_order=best_seasonal))\n",
    "        results.append(models[-1].fit())\n",
    "\n",
    "        preds = results[-1].predict(test_end_idx, test_end_idx+3) #inclusive\n",
    "        \n",
    "        output.append(list(zip(test_df, preds)))\n",
    "        \n",
    "output\n",
    "        "
   ]
  },
  {
   "cell_type": "code",
   "execution_count": 52,
   "metadata": {},
   "outputs": [
    {
     "data": {
      "text/plain": [
       "[<matplotlib.lines.Line2D at 0x7fe274302240>]"
      ]
     },
     "execution_count": 52,
     "metadata": {},
     "output_type": "execute_result"
    },
    {
     "data": {
      "image/png": "[encoded data removed]",
      "text/plain": [
       "<Figure size 432x288 with 1 Axes>"
      ]
     },
     "metadata": {},
     "output_type": "display_data"
    }
   ],
   "source": [
    "%matplotlib inline\n",
    "from matplotlib import pyplot as plt\n",
    "test_end_idx = week_length_qtrs * 3 + hours[-1] * 4\n",
    "ts = neigh_df[\"medallion\"].values[test_end_idx-16:test_end_idx]\n",
    "\n",
    "plt.plot(np.arange(16,20), [x[0] for x in output[-5]])\n",
    "plt.plot(np.arange(20), np.append(ts,[x[1] for x in output[-5]]), color='red')"
   ]
  },
  {
   "cell_type": "code",
   "execution_count": 58,
   "metadata": {},
   "outputs": [
    {
     "data": {
      "text/plain": [
       "26.635548252294868"
      ]
     },
     "execution_count": 58,
     "metadata": {},
     "output_type": "execute_result"
    }
   ],
   "source": [
    "from sklearn.metrics import mean_squared_error\n",
    "import math\n",
    "unpacked_preds = [x[0] for x in output]\n",
    "math.sqrt(mean_squared_error([y[0] for y in unpacked_preds], [y[1] for y in unpacked_preds]))"
   ]
  }
 ],
 "metadata": {
  "kernelspec": {
   "display_name": "Python (nyctaxi)",
   "language": "python",
   "name": "taxi-env"
  },
  "language_info": {
   "codemirror_mode": {
    "name": "ipython",
    "version": 3
   },
   "file_extension": ".py",
   "mimetype": "text/x-python",
   "name": "python",
   "nbconvert_exporter": "python",
   "pygments_lexer": "ipython3",
   "version": "3.5.2"
  }
 },
 "nbformat": 4,
 "nbformat_minor": 2
}
